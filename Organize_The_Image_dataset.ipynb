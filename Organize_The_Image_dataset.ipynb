{
 "cells": [
  {
   "cell_type": "code",
   "execution_count": 15,
   "id": "2ec02082",
   "metadata": {},
   "outputs": [],
   "source": [
    "import os\n",
    "import shutil"
   ]
  },
  {
   "cell_type": "code",
   "execution_count": 38,
   "id": "df1c03d5",
   "metadata": {},
   "outputs": [],
   "source": [
    "def Organize_folder(path,t):\n",
    "    folders=os.listdir(path)\n",
    "    for directory in folders:\n",
    "        if(not os.path.exists(directory[:4])):\n",
    "            os.mkdir(directory[:4])\n",
    "        if(not os.path.exists(os.path.join(directory[:4],t))):\n",
    "            os.mkdir(os.path.join(directory[:4],t))\n",
    "            if(not os.path.exists(os.path.join(directory[:4],t,directory))):\n",
    "                shutil.move(os.path.join(path,directory),os.path.join(directory[:4],t,directory))\n",
    "        if(not os.path.exists(os.path.join(directory[:4],t,directory))):\n",
    "                shutil.move(os.path.join(path,directory),os.path.join(directory[:4],t,directory))"
   ]
  },
  {
   "cell_type": "code",
   "execution_count": 40,
   "id": "57421e70",
   "metadata": {},
   "outputs": [],
   "source": [
    "Organize_folder(\"PTPDD/train_valid/train/train\",\"train\")\n",
    "Organize_folder(\"PTPDD/train_valid/train/valid\",\"valid\")"
   ]
  },
  {
   "cell_type": "code",
   "execution_count": 41,
   "id": "350a9b20",
   "metadata": {},
   "outputs": [],
   "source": [
    "Organize_folder(\"PTPDD/test/test/\",\"test\")"
   ]
  },
  {
   "cell_type": "code",
   "execution_count": null,
   "id": "210d3392",
   "metadata": {},
   "outputs": [],
   "source": []
  }
 ],
 "metadata": {
  "kernelspec": {
   "display_name": "Python 3 (ipykernel)",
   "language": "python",
   "name": "python3"
  },
  "language_info": {
   "codemirror_mode": {
    "name": "ipython",
    "version": 3
   },
   "file_extension": ".py",
   "mimetype": "text/x-python",
   "name": "python",
   "nbconvert_exporter": "python",
   "pygments_lexer": "ipython3",
   "version": "3.9.7"
  }
 },
 "nbformat": 4,
 "nbformat_minor": 5
}
